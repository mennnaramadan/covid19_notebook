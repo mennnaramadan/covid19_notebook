{
 "cells": [
  {
   "cell_type": "code",
   "execution_count": 2,
   "metadata": {},
   "outputs": [],
   "source": [
    "import pandas as pd\n",
    "import numpy as np\n",
    "import seaborn as sns\n",
    "import matplotlib.pylab as plt\n"
   ]
  },
  {
   "cell_type": "code",
   "execution_count": 2,
   "metadata": {},
   "outputs": [
    {
     "ename": "NameError",
     "evalue": "name 'pd' is not defined",
     "output_type": "error",
     "traceback": [
      "\u001b[1;31m---------------------------------------------------------------------------\u001b[0m",
      "\u001b[1;31mNameError\u001b[0m                                 Traceback (most recent call last)",
      "\u001b[1;32m<ipython-input-2-6e1d88d2d717>\u001b[0m in \u001b[0;36m<module>\u001b[1;34m\u001b[0m\n\u001b[1;32m----> 1\u001b[1;33m \u001b[0mcovidb\u001b[0m \u001b[1;33m=\u001b[0m \u001b[0mpd\u001b[0m\u001b[1;33m.\u001b[0m\u001b[0mread_csv\u001b[0m\u001b[1;33m(\u001b[0m\u001b[1;34m'covid-19.csv'\u001b[0m\u001b[1;33m)\u001b[0m\u001b[1;33m\u001b[0m\u001b[1;33m\u001b[0m\u001b[0m\n\u001b[0m\u001b[0;32m      2\u001b[0m \u001b[0mcovidb\u001b[0m\u001b[1;33m\u001b[0m\u001b[1;33m\u001b[0m\u001b[0m\n",
      "\u001b[1;31mNameError\u001b[0m: name 'pd' is not defined"
     ]
    }
   ],
   "source": [
    "covidb = pd.read_csv('covid-19.csv')\n",
    "covidb"
   ]
  },
  {
   "cell_type": "code",
   "execution_count": 3,
   "metadata": {},
   "outputs": [
    {
     "ename": "NameError",
     "evalue": "name 'covidb' is not defined",
     "output_type": "error",
     "traceback": [
      "\u001b[1;31m---------------------------------------------------------------------------\u001b[0m",
      "\u001b[1;31mNameError\u001b[0m                                 Traceback (most recent call last)",
      "\u001b[1;32m<ipython-input-3-e905f288fe5a>\u001b[0m in \u001b[0;36m<module>\u001b[1;34m\u001b[0m\n\u001b[1;32m----> 1\u001b[1;33m \u001b[0mcovidb\u001b[0m\u001b[1;33m.\u001b[0m\u001b[0mcolumns\u001b[0m\u001b[1;33m\u001b[0m\u001b[1;33m\u001b[0m\u001b[0m\n\u001b[0m",
      "\u001b[1;31mNameError\u001b[0m: name 'covidb' is not defined"
     ]
    }
   ],
   "source": [
    "covidb.columns"
   ]
  },
  {
   "cell_type": "code",
   "execution_count": 5,
   "metadata": {},
   "outputs": [
    {
     "data": {
      "text/html": [
       "<div>\n",
       "<style scoped>\n",
       "    .dataframe tbody tr th:only-of-type {\n",
       "        vertical-align: middle;\n",
       "    }\n",
       "\n",
       "    .dataframe tbody tr th {\n",
       "        vertical-align: top;\n",
       "    }\n",
       "\n",
       "    .dataframe thead th {\n",
       "        text-align: right;\n",
       "    }\n",
       "</style>\n",
       "<table border=\"1\" class=\"dataframe\">\n",
       "  <thead>\n",
       "    <tr style=\"text-align: right;\">\n",
       "      <th></th>\n",
       "      <th>Confirmed</th>\n",
       "      <th>Deaths</th>\n",
       "      <th>Recovered</th>\n",
       "      <th>Active</th>\n",
       "      <th>New cases</th>\n",
       "      <th>New deaths</th>\n",
       "      <th>New recovered</th>\n",
       "      <th>Deaths / 100 Cases</th>\n",
       "      <th>Recovered / 100 Cases</th>\n",
       "      <th>Deaths / 100 Recovered</th>\n",
       "      <th>Confirmed last week</th>\n",
       "      <th>1 week change</th>\n",
       "      <th>1 week % increase</th>\n",
       "    </tr>\n",
       "  </thead>\n",
       "  <tbody>\n",
       "    <tr>\n",
       "      <th>count</th>\n",
       "      <td>1.870000e+02</td>\n",
       "      <td>187.000000</td>\n",
       "      <td>1.870000e+02</td>\n",
       "      <td>1.870000e+02</td>\n",
       "      <td>187.000000</td>\n",
       "      <td>187.000000</td>\n",
       "      <td>187.000000</td>\n",
       "      <td>187.000000</td>\n",
       "      <td>187.000000</td>\n",
       "      <td>187.00</td>\n",
       "      <td>1.870000e+02</td>\n",
       "      <td>187.000000</td>\n",
       "      <td>187.000000</td>\n",
       "    </tr>\n",
       "    <tr>\n",
       "      <th>mean</th>\n",
       "      <td>8.813094e+04</td>\n",
       "      <td>3497.518717</td>\n",
       "      <td>5.063148e+04</td>\n",
       "      <td>3.400194e+04</td>\n",
       "      <td>1222.957219</td>\n",
       "      <td>28.957219</td>\n",
       "      <td>933.812834</td>\n",
       "      <td>3.019519</td>\n",
       "      <td>64.820535</td>\n",
       "      <td>inf</td>\n",
       "      <td>7.868248e+04</td>\n",
       "      <td>9448.459893</td>\n",
       "      <td>13.606203</td>\n",
       "    </tr>\n",
       "    <tr>\n",
       "      <th>std</th>\n",
       "      <td>3.833187e+05</td>\n",
       "      <td>14100.002482</td>\n",
       "      <td>1.901882e+05</td>\n",
       "      <td>2.133262e+05</td>\n",
       "      <td>5710.374790</td>\n",
       "      <td>120.037173</td>\n",
       "      <td>4197.719635</td>\n",
       "      <td>3.454302</td>\n",
       "      <td>26.287694</td>\n",
       "      <td>NaN</td>\n",
       "      <td>3.382737e+05</td>\n",
       "      <td>47491.127684</td>\n",
       "      <td>24.509838</td>\n",
       "    </tr>\n",
       "    <tr>\n",
       "      <th>min</th>\n",
       "      <td>1.000000e+01</td>\n",
       "      <td>0.000000</td>\n",
       "      <td>0.000000e+00</td>\n",
       "      <td>0.000000e+00</td>\n",
       "      <td>0.000000</td>\n",
       "      <td>0.000000</td>\n",
       "      <td>0.000000</td>\n",
       "      <td>0.000000</td>\n",
       "      <td>0.000000</td>\n",
       "      <td>0.00</td>\n",
       "      <td>1.000000e+01</td>\n",
       "      <td>-47.000000</td>\n",
       "      <td>-3.840000</td>\n",
       "    </tr>\n",
       "    <tr>\n",
       "      <th>25%</th>\n",
       "      <td>1.114000e+03</td>\n",
       "      <td>18.500000</td>\n",
       "      <td>6.265000e+02</td>\n",
       "      <td>1.415000e+02</td>\n",
       "      <td>4.000000</td>\n",
       "      <td>0.000000</td>\n",
       "      <td>0.000000</td>\n",
       "      <td>0.945000</td>\n",
       "      <td>48.770000</td>\n",
       "      <td>1.45</td>\n",
       "      <td>1.051500e+03</td>\n",
       "      <td>49.000000</td>\n",
       "      <td>2.775000</td>\n",
       "    </tr>\n",
       "    <tr>\n",
       "      <th>50%</th>\n",
       "      <td>5.059000e+03</td>\n",
       "      <td>108.000000</td>\n",
       "      <td>2.815000e+03</td>\n",
       "      <td>1.600000e+03</td>\n",
       "      <td>49.000000</td>\n",
       "      <td>1.000000</td>\n",
       "      <td>22.000000</td>\n",
       "      <td>2.150000</td>\n",
       "      <td>71.320000</td>\n",
       "      <td>3.62</td>\n",
       "      <td>5.020000e+03</td>\n",
       "      <td>432.000000</td>\n",
       "      <td>6.890000</td>\n",
       "    </tr>\n",
       "    <tr>\n",
       "      <th>75%</th>\n",
       "      <td>4.046050e+04</td>\n",
       "      <td>734.000000</td>\n",
       "      <td>2.260600e+04</td>\n",
       "      <td>9.149000e+03</td>\n",
       "      <td>419.500000</td>\n",
       "      <td>6.000000</td>\n",
       "      <td>221.000000</td>\n",
       "      <td>3.875000</td>\n",
       "      <td>86.885000</td>\n",
       "      <td>6.44</td>\n",
       "      <td>3.708050e+04</td>\n",
       "      <td>3172.000000</td>\n",
       "      <td>16.855000</td>\n",
       "    </tr>\n",
       "    <tr>\n",
       "      <th>max</th>\n",
       "      <td>4.290259e+06</td>\n",
       "      <td>148011.000000</td>\n",
       "      <td>1.846641e+06</td>\n",
       "      <td>2.816444e+06</td>\n",
       "      <td>56336.000000</td>\n",
       "      <td>1076.000000</td>\n",
       "      <td>33728.000000</td>\n",
       "      <td>28.560000</td>\n",
       "      <td>100.000000</td>\n",
       "      <td>inf</td>\n",
       "      <td>3.834677e+06</td>\n",
       "      <td>455582.000000</td>\n",
       "      <td>226.320000</td>\n",
       "    </tr>\n",
       "  </tbody>\n",
       "</table>\n",
       "</div>"
      ],
      "text/plain": [
       "          Confirmed         Deaths     Recovered        Active     New cases  \\\n",
       "count  1.870000e+02     187.000000  1.870000e+02  1.870000e+02    187.000000   \n",
       "mean   8.813094e+04    3497.518717  5.063148e+04  3.400194e+04   1222.957219   \n",
       "std    3.833187e+05   14100.002482  1.901882e+05  2.133262e+05   5710.374790   \n",
       "min    1.000000e+01       0.000000  0.000000e+00  0.000000e+00      0.000000   \n",
       "25%    1.114000e+03      18.500000  6.265000e+02  1.415000e+02      4.000000   \n",
       "50%    5.059000e+03     108.000000  2.815000e+03  1.600000e+03     49.000000   \n",
       "75%    4.046050e+04     734.000000  2.260600e+04  9.149000e+03    419.500000   \n",
       "max    4.290259e+06  148011.000000  1.846641e+06  2.816444e+06  56336.000000   \n",
       "\n",
       "        New deaths  New recovered  Deaths / 100 Cases  Recovered / 100 Cases  \\\n",
       "count   187.000000     187.000000          187.000000             187.000000   \n",
       "mean     28.957219     933.812834            3.019519              64.820535   \n",
       "std     120.037173    4197.719635            3.454302              26.287694   \n",
       "min       0.000000       0.000000            0.000000               0.000000   \n",
       "25%       0.000000       0.000000            0.945000              48.770000   \n",
       "50%       1.000000      22.000000            2.150000              71.320000   \n",
       "75%       6.000000     221.000000            3.875000              86.885000   \n",
       "max    1076.000000   33728.000000           28.560000             100.000000   \n",
       "\n",
       "       Deaths / 100 Recovered  Confirmed last week  1 week change  \\\n",
       "count                  187.00         1.870000e+02     187.000000   \n",
       "mean                      inf         7.868248e+04    9448.459893   \n",
       "std                       NaN         3.382737e+05   47491.127684   \n",
       "min                      0.00         1.000000e+01     -47.000000   \n",
       "25%                      1.45         1.051500e+03      49.000000   \n",
       "50%                      3.62         5.020000e+03     432.000000   \n",
       "75%                      6.44         3.708050e+04    3172.000000   \n",
       "max                       inf         3.834677e+06  455582.000000   \n",
       "\n",
       "       1 week % increase  \n",
       "count         187.000000  \n",
       "mean           13.606203  \n",
       "std            24.509838  \n",
       "min            -3.840000  \n",
       "25%             2.775000  \n",
       "50%             6.890000  \n",
       "75%            16.855000  \n",
       "max           226.320000  "
      ]
     },
     "execution_count": 5,
     "metadata": {},
     "output_type": "execute_result"
    }
   ],
   "source": [
    "covidb.describe()"
   ]
  },
  {
   "cell_type": "code",
   "execution_count": 6,
   "metadata": {},
   "outputs": [
    {
     "name": "stdout",
     "output_type": "stream",
     "text": [
      "<class 'pandas.core.frame.DataFrame'>\n",
      "RangeIndex: 187 entries, 0 to 186\n",
      "Data columns (total 15 columns):\n",
      " #   Column                  Non-Null Count  Dtype  \n",
      "---  ------                  --------------  -----  \n",
      " 0   Country/Region          187 non-null    object \n",
      " 1   Confirmed               187 non-null    int64  \n",
      " 2   Deaths                  187 non-null    int64  \n",
      " 3   Recovered               187 non-null    int64  \n",
      " 4   Active                  187 non-null    int64  \n",
      " 5   New cases               187 non-null    int64  \n",
      " 6   New deaths              187 non-null    int64  \n",
      " 7   New recovered           187 non-null    int64  \n",
      " 8   Deaths / 100 Cases      187 non-null    float64\n",
      " 9   Recovered / 100 Cases   187 non-null    float64\n",
      " 10  Deaths / 100 Recovered  187 non-null    float64\n",
      " 11  Confirmed last week     187 non-null    int64  \n",
      " 12  1 week change           187 non-null    int64  \n",
      " 13  1 week % increase       187 non-null    float64\n",
      " 14  WHO Region              187 non-null    object \n",
      "dtypes: float64(4), int64(9), object(2)\n",
      "memory usage: 22.0+ KB\n"
     ]
    }
   ],
   "source": [
    "covidb.info()"
   ]
  },
  {
   "cell_type": "code",
   "execution_count": 7,
   "metadata": {},
   "outputs": [
    {
     "data": {
      "text/plain": [
       "Europe                   56\n",
       "Africa                   48\n",
       "Americas                 35\n",
       "Eastern Mediterranean    22\n",
       "Western Pacific          16\n",
       "South-East Asia          10\n",
       "Name: WHO Region, dtype: int64"
      ]
     },
     "execution_count": 7,
     "metadata": {},
     "output_type": "execute_result"
    }
   ],
   "source": [
    "covidb['WHO Region'].value_counts()"
   ]
  },
  {
   "cell_type": "code",
   "execution_count": 8,
   "metadata": {},
   "outputs": [
    {
     "data": {
      "text/plain": [
       "Deaths                    1.000000\n",
       "Confirmed last week       0.939082\n",
       "Confirmed                 0.934698\n",
       "Active                    0.871586\n",
       "1 week change             0.855330\n",
       "Recovered                 0.832098\n",
       "New deaths                0.814161\n",
       "New cases                 0.806975\n",
       "New recovered             0.765114\n",
       "Deaths / 100 Cases        0.251565\n",
       "Deaths / 100 Recovered    0.169006\n",
       "1 week % increase        -0.034708\n",
       "Recovered / 100 Cases    -0.114529\n",
       "Name: Deaths, dtype: float64"
      ]
     },
     "execution_count": 8,
     "metadata": {},
     "output_type": "execute_result"
    }
   ],
   "source": [
    "covidb.corr()['Deaths'].sort_values(ascending = False)"
   ]
  },
  {
   "cell_type": "code",
   "execution_count": 9,
   "metadata": {},
   "outputs": [
    {
     "data": {
      "text/html": [
       "<div>\n",
       "<style scoped>\n",
       "    .dataframe tbody tr th:only-of-type {\n",
       "        vertical-align: middle;\n",
       "    }\n",
       "\n",
       "    .dataframe tbody tr th {\n",
       "        vertical-align: top;\n",
       "    }\n",
       "\n",
       "    .dataframe thead th {\n",
       "        text-align: right;\n",
       "    }\n",
       "</style>\n",
       "<table border=\"1\" class=\"dataframe\">\n",
       "  <thead>\n",
       "    <tr style=\"text-align: right;\">\n",
       "      <th></th>\n",
       "      <th>Country/Region</th>\n",
       "      <th>Confirmed</th>\n",
       "      <th>Deaths</th>\n",
       "      <th>Recovered</th>\n",
       "      <th>Active</th>\n",
       "      <th>New cases</th>\n",
       "      <th>New deaths</th>\n",
       "      <th>New recovered</th>\n",
       "      <th>Deaths / 100 Cases</th>\n",
       "      <th>Recovered / 100 Cases</th>\n",
       "      <th>Deaths / 100 Recovered</th>\n",
       "      <th>Confirmed last week</th>\n",
       "      <th>1 week change</th>\n",
       "      <th>1 week % increase</th>\n",
       "      <th>WHO Region</th>\n",
       "    </tr>\n",
       "  </thead>\n",
       "  <tbody>\n",
       "    <tr>\n",
       "      <th>173</th>\n",
       "      <td>US</td>\n",
       "      <td>4290259</td>\n",
       "      <td>148011</td>\n",
       "      <td>1325804</td>\n",
       "      <td>2816444</td>\n",
       "      <td>56336</td>\n",
       "      <td>1076</td>\n",
       "      <td>27941</td>\n",
       "      <td>3.45</td>\n",
       "      <td>30.9</td>\n",
       "      <td>11.16</td>\n",
       "      <td>3834677</td>\n",
       "      <td>455582</td>\n",
       "      <td>11.88</td>\n",
       "      <td>Americas</td>\n",
       "    </tr>\n",
       "  </tbody>\n",
       "</table>\n",
       "</div>"
      ],
      "text/plain": [
       "    Country/Region  Confirmed  Deaths  Recovered   Active  New cases  \\\n",
       "173             US    4290259  148011    1325804  2816444      56336   \n",
       "\n",
       "     New deaths  New recovered  Deaths / 100 Cases  Recovered / 100 Cases  \\\n",
       "173        1076          27941                3.45                   30.9   \n",
       "\n",
       "     Deaths / 100 Recovered  Confirmed last week  1 week change  \\\n",
       "173                   11.16              3834677         455582   \n",
       "\n",
       "     1 week % increase WHO Region  \n",
       "173              11.88   Americas  "
      ]
     },
     "execution_count": 9,
     "metadata": {},
     "output_type": "execute_result"
    }
   ],
   "source": [
    "covidb[covidb['Confirmed'] == covidb['Confirmed'].max()]"
   ]
  },
  {
   "cell_type": "code",
   "execution_count": 10,
   "metadata": {},
   "outputs": [
    {
     "data": {
      "text/plain": [
       "Country/Region            187\n",
       "Confirmed                 184\n",
       "Deaths                    150\n",
       "Recovered                 178\n",
       "Active                    173\n",
       "New cases                 122\n",
       "New deaths                 38\n",
       "New recovered             103\n",
       "Deaths / 100 Cases        145\n",
       "Recovered / 100 Cases     177\n",
       "Deaths / 100 Recovered    155\n",
       "Confirmed last week       183\n",
       "1 week change             162\n",
       "1 week % increase         169\n",
       "WHO Region                  6\n",
       "dtype: int64"
      ]
     },
     "execution_count": 10,
     "metadata": {},
     "output_type": "execute_result"
    }
   ],
   "source": [
    "covidb.nunique()"
   ]
  },
  {
   "cell_type": "code",
   "execution_count": 11,
   "metadata": {},
   "outputs": [
    {
     "data": {
      "text/html": [
       "<div>\n",
       "<style scoped>\n",
       "    .dataframe tbody tr th:only-of-type {\n",
       "        vertical-align: middle;\n",
       "    }\n",
       "\n",
       "    .dataframe tbody tr th {\n",
       "        vertical-align: top;\n",
       "    }\n",
       "\n",
       "    .dataframe thead th {\n",
       "        text-align: right;\n",
       "    }\n",
       "</style>\n",
       "<table border=\"1\" class=\"dataframe\">\n",
       "  <thead>\n",
       "    <tr style=\"text-align: right;\">\n",
       "      <th></th>\n",
       "      <th>Country/Region</th>\n",
       "      <th>Confirmed</th>\n",
       "      <th>Deaths</th>\n",
       "      <th>Recovered</th>\n",
       "      <th>Active</th>\n",
       "      <th>New cases</th>\n",
       "      <th>New deaths</th>\n",
       "      <th>New recovered</th>\n",
       "      <th>Deaths / 100 Cases</th>\n",
       "      <th>Recovered / 100 Cases</th>\n",
       "      <th>Deaths / 100 Recovered</th>\n",
       "      <th>Confirmed last week</th>\n",
       "      <th>1 week change</th>\n",
       "      <th>1 week % increase</th>\n",
       "      <th>WHO Region</th>\n",
       "    </tr>\n",
       "  </thead>\n",
       "  <tbody>\n",
       "    <tr>\n",
       "      <th>183</th>\n",
       "      <td>Western Sahara</td>\n",
       "      <td>10</td>\n",
       "      <td>1</td>\n",
       "      <td>8</td>\n",
       "      <td>1</td>\n",
       "      <td>0</td>\n",
       "      <td>0</td>\n",
       "      <td>0</td>\n",
       "      <td>10.0</td>\n",
       "      <td>80.0</td>\n",
       "      <td>12.5</td>\n",
       "      <td>10</td>\n",
       "      <td>0</td>\n",
       "      <td>0.0</td>\n",
       "      <td>Africa</td>\n",
       "    </tr>\n",
       "  </tbody>\n",
       "</table>\n",
       "</div>"
      ],
      "text/plain": [
       "     Country/Region  Confirmed  Deaths  Recovered  Active  New cases  \\\n",
       "183  Western Sahara         10       1          8       1          0   \n",
       "\n",
       "     New deaths  New recovered  Deaths / 100 Cases  Recovered / 100 Cases  \\\n",
       "183           0              0                10.0                   80.0   \n",
       "\n",
       "     Deaths / 100 Recovered  Confirmed last week  1 week change  \\\n",
       "183                    12.5                   10              0   \n",
       "\n",
       "     1 week % increase WHO Region  \n",
       "183                0.0     Africa  "
      ]
     },
     "execution_count": 11,
     "metadata": {},
     "output_type": "execute_result"
    }
   ],
   "source": [
    "covidb[covidb['Confirmed'] == covidb['Confirmed'].min()]"
   ]
  },
  {
   "cell_type": "code",
   "execution_count": 12,
   "metadata": {},
   "outputs": [
    {
     "data": {
      "text/html": [
       "<div>\n",
       "<style scoped>\n",
       "    .dataframe tbody tr th:only-of-type {\n",
       "        vertical-align: middle;\n",
       "    }\n",
       "\n",
       "    .dataframe tbody tr th {\n",
       "        vertical-align: top;\n",
       "    }\n",
       "\n",
       "    .dataframe thead th {\n",
       "        text-align: right;\n",
       "    }\n",
       "</style>\n",
       "<table border=\"1\" class=\"dataframe\">\n",
       "  <thead>\n",
       "    <tr style=\"text-align: right;\">\n",
       "      <th></th>\n",
       "      <th>Country/Region</th>\n",
       "      <th>Confirmed</th>\n",
       "      <th>Deaths</th>\n",
       "      <th>Recovered</th>\n",
       "      <th>Active</th>\n",
       "      <th>New cases</th>\n",
       "      <th>New deaths</th>\n",
       "      <th>New recovered</th>\n",
       "      <th>Deaths / 100 Cases</th>\n",
       "      <th>Recovered / 100 Cases</th>\n",
       "      <th>Deaths / 100 Recovered</th>\n",
       "      <th>Confirmed last week</th>\n",
       "      <th>1 week change</th>\n",
       "      <th>1 week % increase</th>\n",
       "      <th>WHO Region</th>\n",
       "    </tr>\n",
       "  </thead>\n",
       "  <tbody>\n",
       "    <tr>\n",
       "      <th>173</th>\n",
       "      <td>US</td>\n",
       "      <td>4290259</td>\n",
       "      <td>148011</td>\n",
       "      <td>1325804</td>\n",
       "      <td>2816444</td>\n",
       "      <td>56336</td>\n",
       "      <td>1076</td>\n",
       "      <td>27941</td>\n",
       "      <td>3.45</td>\n",
       "      <td>30.9</td>\n",
       "      <td>11.16</td>\n",
       "      <td>3834677</td>\n",
       "      <td>455582</td>\n",
       "      <td>11.88</td>\n",
       "      <td>Americas</td>\n",
       "    </tr>\n",
       "  </tbody>\n",
       "</table>\n",
       "</div>"
      ],
      "text/plain": [
       "    Country/Region  Confirmed  Deaths  Recovered   Active  New cases  \\\n",
       "173             US    4290259  148011    1325804  2816444      56336   \n",
       "\n",
       "     New deaths  New recovered  Deaths / 100 Cases  Recovered / 100 Cases  \\\n",
       "173        1076          27941                3.45                   30.9   \n",
       "\n",
       "     Deaths / 100 Recovered  Confirmed last week  1 week change  \\\n",
       "173                   11.16              3834677         455582   \n",
       "\n",
       "     1 week % increase WHO Region  \n",
       "173              11.88   Americas  "
      ]
     },
     "execution_count": 12,
     "metadata": {},
     "output_type": "execute_result"
    }
   ],
   "source": [
    "covidb[covidb['Deaths'] == 148011.000000]"
   ]
  },
  {
   "cell_type": "code",
   "execution_count": 13,
   "metadata": {},
   "outputs": [
    {
     "data": {
      "text/plain": [
       "654036"
      ]
     },
     "execution_count": 13,
     "metadata": {},
     "output_type": "execute_result"
    }
   ],
   "source": [
    "\n",
    "covidb['Deaths'].sum()"
   ]
  },
  {
   "cell_type": "code",
   "execution_count": 14,
   "metadata": {},
   "outputs": [
    {
     "data": {
      "text/plain": [
       "16480485"
      ]
     },
     "execution_count": 14,
     "metadata": {},
     "output_type": "execute_result"
    }
   ],
   "source": [
    "\n",
    "covidb['Confirmed'].sum()"
   ]
  },
  {
   "cell_type": "code",
   "execution_count": 15,
   "metadata": {},
   "outputs": [
    {
     "data": {
      "text/plain": [
       "228693"
      ]
     },
     "execution_count": 15,
     "metadata": {},
     "output_type": "execute_result"
    }
   ],
   "source": [
    "covidb['New cases'].sum()"
   ]
  },
  {
   "cell_type": "code",
   "execution_count": 16,
   "metadata": {},
   "outputs": [
    {
     "data": {
      "text/html": [
       "<div>\n",
       "<style scoped>\n",
       "    .dataframe tbody tr th:only-of-type {\n",
       "        vertical-align: middle;\n",
       "    }\n",
       "\n",
       "    .dataframe tbody tr th {\n",
       "        vertical-align: top;\n",
       "    }\n",
       "\n",
       "    .dataframe thead th {\n",
       "        text-align: right;\n",
       "    }\n",
       "</style>\n",
       "<table border=\"1\" class=\"dataframe\">\n",
       "  <thead>\n",
       "    <tr style=\"text-align: right;\">\n",
       "      <th></th>\n",
       "      <th>Country/Region</th>\n",
       "      <th>Confirmed</th>\n",
       "      <th>Deaths</th>\n",
       "      <th>Recovered</th>\n",
       "      <th>Active</th>\n",
       "      <th>New cases</th>\n",
       "      <th>New deaths</th>\n",
       "      <th>New recovered</th>\n",
       "      <th>Deaths / 100 Cases</th>\n",
       "      <th>Recovered / 100 Cases</th>\n",
       "      <th>Deaths / 100 Recovered</th>\n",
       "      <th>Confirmed last week</th>\n",
       "      <th>1 week change</th>\n",
       "      <th>1 week % increase</th>\n",
       "      <th>WHO Region</th>\n",
       "    </tr>\n",
       "  </thead>\n",
       "  <tbody>\n",
       "    <tr>\n",
       "      <th>173</th>\n",
       "      <td>US</td>\n",
       "      <td>4290259</td>\n",
       "      <td>148011</td>\n",
       "      <td>1325804</td>\n",
       "      <td>2816444</td>\n",
       "      <td>56336</td>\n",
       "      <td>1076</td>\n",
       "      <td>27941</td>\n",
       "      <td>3.45</td>\n",
       "      <td>30.90</td>\n",
       "      <td>11.16</td>\n",
       "      <td>3834677</td>\n",
       "      <td>455582</td>\n",
       "      <td>11.88</td>\n",
       "      <td>Americas</td>\n",
       "    </tr>\n",
       "    <tr>\n",
       "      <th>23</th>\n",
       "      <td>Brazil</td>\n",
       "      <td>2442375</td>\n",
       "      <td>87618</td>\n",
       "      <td>1846641</td>\n",
       "      <td>508116</td>\n",
       "      <td>23284</td>\n",
       "      <td>614</td>\n",
       "      <td>33728</td>\n",
       "      <td>3.59</td>\n",
       "      <td>75.61</td>\n",
       "      <td>4.74</td>\n",
       "      <td>2118646</td>\n",
       "      <td>323729</td>\n",
       "      <td>15.28</td>\n",
       "      <td>Americas</td>\n",
       "    </tr>\n",
       "    <tr>\n",
       "      <th>79</th>\n",
       "      <td>India</td>\n",
       "      <td>1480073</td>\n",
       "      <td>33408</td>\n",
       "      <td>951166</td>\n",
       "      <td>495499</td>\n",
       "      <td>44457</td>\n",
       "      <td>637</td>\n",
       "      <td>33598</td>\n",
       "      <td>2.26</td>\n",
       "      <td>64.26</td>\n",
       "      <td>3.51</td>\n",
       "      <td>1155338</td>\n",
       "      <td>324735</td>\n",
       "      <td>28.11</td>\n",
       "      <td>South-East Asia</td>\n",
       "    </tr>\n",
       "    <tr>\n",
       "      <th>177</th>\n",
       "      <td>United Kingdom</td>\n",
       "      <td>301708</td>\n",
       "      <td>45844</td>\n",
       "      <td>1437</td>\n",
       "      <td>254427</td>\n",
       "      <td>688</td>\n",
       "      <td>7</td>\n",
       "      <td>3</td>\n",
       "      <td>15.19</td>\n",
       "      <td>0.48</td>\n",
       "      <td>3190.26</td>\n",
       "      <td>296944</td>\n",
       "      <td>4764</td>\n",
       "      <td>1.60</td>\n",
       "      <td>Europe</td>\n",
       "    </tr>\n",
       "    <tr>\n",
       "      <th>138</th>\n",
       "      <td>Russia</td>\n",
       "      <td>816680</td>\n",
       "      <td>13334</td>\n",
       "      <td>602249</td>\n",
       "      <td>201097</td>\n",
       "      <td>5607</td>\n",
       "      <td>85</td>\n",
       "      <td>3077</td>\n",
       "      <td>1.63</td>\n",
       "      <td>73.74</td>\n",
       "      <td>2.21</td>\n",
       "      <td>776212</td>\n",
       "      <td>40468</td>\n",
       "      <td>5.21</td>\n",
       "      <td>Europe</td>\n",
       "    </tr>\n",
       "  </tbody>\n",
       "</table>\n",
       "</div>"
      ],
      "text/plain": [
       "     Country/Region  Confirmed  Deaths  Recovered   Active  New cases  \\\n",
       "173              US    4290259  148011    1325804  2816444      56336   \n",
       "23           Brazil    2442375   87618    1846641   508116      23284   \n",
       "79            India    1480073   33408     951166   495499      44457   \n",
       "177  United Kingdom     301708   45844       1437   254427        688   \n",
       "138          Russia     816680   13334     602249   201097       5607   \n",
       "\n",
       "     New deaths  New recovered  Deaths / 100 Cases  Recovered / 100 Cases  \\\n",
       "173        1076          27941                3.45                  30.90   \n",
       "23          614          33728                3.59                  75.61   \n",
       "79          637          33598                2.26                  64.26   \n",
       "177           7              3               15.19                   0.48   \n",
       "138          85           3077                1.63                  73.74   \n",
       "\n",
       "     Deaths / 100 Recovered  Confirmed last week  1 week change  \\\n",
       "173                   11.16              3834677         455582   \n",
       "23                     4.74              2118646         323729   \n",
       "79                     3.51              1155338         324735   \n",
       "177                 3190.26               296944           4764   \n",
       "138                    2.21               776212          40468   \n",
       "\n",
       "     1 week % increase       WHO Region  \n",
       "173              11.88         Americas  \n",
       "23               15.28         Americas  \n",
       "79               28.11  South-East Asia  \n",
       "177               1.60           Europe  \n",
       "138               5.21           Europe  "
      ]
     },
     "execution_count": 16,
     "metadata": {},
     "output_type": "execute_result"
    }
   ],
   "source": [
    "covidb.nlargest(5,'Active')"
   ]
  },
  {
   "cell_type": "code",
   "execution_count": 17,
   "metadata": {},
   "outputs": [
    {
     "data": {
      "text/plain": [
       "<matplotlib.axes._subplots.AxesSubplot at 0x22963d99fc8>"
      ]
     },
     "execution_count": 17,
     "metadata": {},
     "output_type": "execute_result"
    },
    {
     "data": {
      "image/png": "[encoded data removed]",
      "text/plain": [
       "<Figure size 432x288 with 1 Axes>"
      ]
     },
     "metadata": {
      "needs_background": "light"
     },
     "output_type": "display_data"
    }
   ],
   "source": [
    "sns.distplot(covidb.nlargest(5,'Active')['Active'])"
   ]
  },
  {
   "cell_type": "code",
   "execution_count": 18,
   "metadata": {},
   "outputs": [
    {
     "data": {
      "text/plain": [
       "<matplotlib.axes._subplots.AxesSubplot at 0x22964570fc8>"
      ]
     },
     "execution_count": 18,
     "metadata": {},
     "output_type": "execute_result"
    },
    {
     "data": {
      "image/png": "[encoded data removed]",
      "text/plain": [
       "<Figure size 1080x720 with 1 Axes>"
      ]
     },
     "metadata": {
      "needs_background": "light"
     },
     "output_type": "display_data"
    }
   ],
   "source": [
    "covidb[\"New cases\"].hist(bins=50 , figsize =(15,10))"
   ]
  },
  {
   "cell_type": "code",
   "execution_count": 19,
   "metadata": {},
   "outputs": [
    {
     "data": {
      "text/plain": [
       "<matplotlib.axes._subplots.AxesSubplot at 0x22964980388>"
      ]
     },
     "execution_count": 19,
     "metadata": {},
     "output_type": "execute_result"
    },
    {
     "data": {
      "image/png": "[encoded data removed]",
      "text/plain": [
       "<Figure size 1080x720 with 1 Axes>"
      ]
     },
     "metadata": {
      "needs_background": "light"
     },
     "output_type": "display_data"
    }
   ],
   "source": [
    "covidb[\"Deaths\"].hist(bins=50 , figsize =(15,10))"
   ]
  },
  {
   "cell_type": "code",
   "execution_count": 57,
   "metadata": {},
   "outputs": [
    {
     "data": {
      "text/html": [
       "<div>\n",
       "<style scoped>\n",
       "    .dataframe tbody tr th:only-of-type {\n",
       "        vertical-align: middle;\n",
       "    }\n",
       "\n",
       "    .dataframe tbody tr th {\n",
       "        vertical-align: top;\n",
       "    }\n",
       "\n",
       "    .dataframe thead th {\n",
       "        text-align: right;\n",
       "    }\n",
       "</style>\n",
       "<table border=\"1\" class=\"dataframe\">\n",
       "  <thead>\n",
       "    <tr style=\"text-align: right;\">\n",
       "      <th></th>\n",
       "      <th>Country/Region</th>\n",
       "      <th>Confirmed</th>\n",
       "      <th>Deaths</th>\n",
       "      <th>Recovered</th>\n",
       "      <th>Active</th>\n",
       "      <th>New cases</th>\n",
       "      <th>New deaths</th>\n",
       "      <th>New recovered</th>\n",
       "      <th>Deaths / 100 Cases</th>\n",
       "      <th>Recovered / 100 Cases</th>\n",
       "      <th>Deaths / 100 Recovered</th>\n",
       "      <th>Confirmed last week</th>\n",
       "      <th>1 week change</th>\n",
       "      <th>1 week % increase</th>\n",
       "      <th>WHO Region</th>\n",
       "    </tr>\n",
       "  </thead>\n",
       "  <tbody>\n",
       "    <tr>\n",
       "      <th>173</th>\n",
       "      <td>US</td>\n",
       "      <td>4290259</td>\n",
       "      <td>148011</td>\n",
       "      <td>1325804</td>\n",
       "      <td>2816444</td>\n",
       "      <td>56336</td>\n",
       "      <td>1076</td>\n",
       "      <td>27941</td>\n",
       "      <td>3.45</td>\n",
       "      <td>30.90</td>\n",
       "      <td>11.16</td>\n",
       "      <td>3834677</td>\n",
       "      <td>455582</td>\n",
       "      <td>11.88</td>\n",
       "      <td>Americas</td>\n",
       "    </tr>\n",
       "    <tr>\n",
       "      <th>23</th>\n",
       "      <td>Brazil</td>\n",
       "      <td>2442375</td>\n",
       "      <td>87618</td>\n",
       "      <td>1846641</td>\n",
       "      <td>508116</td>\n",
       "      <td>23284</td>\n",
       "      <td>614</td>\n",
       "      <td>33728</td>\n",
       "      <td>3.59</td>\n",
       "      <td>75.61</td>\n",
       "      <td>4.74</td>\n",
       "      <td>2118646</td>\n",
       "      <td>323729</td>\n",
       "      <td>15.28</td>\n",
       "      <td>Americas</td>\n",
       "    </tr>\n",
       "    <tr>\n",
       "      <th>79</th>\n",
       "      <td>India</td>\n",
       "      <td>1480073</td>\n",
       "      <td>33408</td>\n",
       "      <td>951166</td>\n",
       "      <td>495499</td>\n",
       "      <td>44457</td>\n",
       "      <td>637</td>\n",
       "      <td>33598</td>\n",
       "      <td>2.26</td>\n",
       "      <td>64.26</td>\n",
       "      <td>3.51</td>\n",
       "      <td>1155338</td>\n",
       "      <td>324735</td>\n",
       "      <td>28.11</td>\n",
       "      <td>South-East Asia</td>\n",
       "    </tr>\n",
       "    <tr>\n",
       "      <th>177</th>\n",
       "      <td>United Kingdom</td>\n",
       "      <td>301708</td>\n",
       "      <td>45844</td>\n",
       "      <td>1437</td>\n",
       "      <td>254427</td>\n",
       "      <td>688</td>\n",
       "      <td>7</td>\n",
       "      <td>3</td>\n",
       "      <td>15.19</td>\n",
       "      <td>0.48</td>\n",
       "      <td>3190.26</td>\n",
       "      <td>296944</td>\n",
       "      <td>4764</td>\n",
       "      <td>1.60</td>\n",
       "      <td>Europe</td>\n",
       "    </tr>\n",
       "    <tr>\n",
       "      <th>138</th>\n",
       "      <td>Russia</td>\n",
       "      <td>816680</td>\n",
       "      <td>13334</td>\n",
       "      <td>602249</td>\n",
       "      <td>201097</td>\n",
       "      <td>5607</td>\n",
       "      <td>85</td>\n",
       "      <td>3077</td>\n",
       "      <td>1.63</td>\n",
       "      <td>73.74</td>\n",
       "      <td>2.21</td>\n",
       "      <td>776212</td>\n",
       "      <td>40468</td>\n",
       "      <td>5.21</td>\n",
       "      <td>Europe</td>\n",
       "    </tr>\n",
       "  </tbody>\n",
       "</table>\n",
       "</div>"
      ],
      "text/plain": [
       "     Country/Region  Confirmed  Deaths  Recovered   Active  New cases  \\\n",
       "173              US    4290259  148011    1325804  2816444      56336   \n",
       "23           Brazil    2442375   87618    1846641   508116      23284   \n",
       "79            India    1480073   33408     951166   495499      44457   \n",
       "177  United Kingdom     301708   45844       1437   254427        688   \n",
       "138          Russia     816680   13334     602249   201097       5607   \n",
       "\n",
       "     New deaths  New recovered  Deaths / 100 Cases  Recovered / 100 Cases  \\\n",
       "173        1076          27941                3.45                  30.90   \n",
       "23          614          33728                3.59                  75.61   \n",
       "79          637          33598                2.26                  64.26   \n",
       "177           7              3               15.19                   0.48   \n",
       "138          85           3077                1.63                  73.74   \n",
       "\n",
       "     Deaths / 100 Recovered  Confirmed last week  1 week change  \\\n",
       "173                   11.16              3834677         455582   \n",
       "23                     4.74              2118646         323729   \n",
       "79                     3.51              1155338         324735   \n",
       "177                 3190.26               296944           4764   \n",
       "138                    2.21               776212          40468   \n",
       "\n",
       "     1 week % increase       WHO Region  \n",
       "173              11.88         Americas  \n",
       "23               15.28         Americas  \n",
       "79               28.11  South-East Asia  \n",
       "177               1.60           Europe  \n",
       "138               5.21           Europe  "
      ]
     },
     "execution_count": 57,
     "metadata": {},
     "output_type": "execute_result"
    }
   ],
   "source": [
    "dplot = covidb.nlargest(5,'Active')\n",
    "dplot"
   ]
  },
  {
   "cell_type": "code",
   "execution_count": 56,
   "metadata": {},
   "outputs": [
    {
     "data": {
      "image/png": "[encoded data removed]",
      "text/plain": [
       "<Figure size 432x288 with 1 Axes>"
      ]
     },
     "metadata": {
      "needs_background": "light"
     },
     "output_type": "display_data"
    }
   ],
   "source": [
    "x = dplot['Country/Region']\n",
    "y = dplot['Active']\n",
    "plt.bar(x,y,align='center') # A bar chart\n",
    "plt.xlabel('Country')\n",
    "plt.ylabel('Active')\n",
    "plt.show()"
   ]
  },
  {
   "cell_type": "code",
   "execution_count": 22,
   "metadata": {},
   "outputs": [
    {
     "data": {
      "text/plain": [
       "<matplotlib.axes._subplots.AxesSubplot at 0x22964c03f48>"
      ]
     },
     "execution_count": 22,
     "metadata": {},
     "output_type": "execute_result"
    },
    {
     "data": {
      "image/png": "[encoded data removed]",
      "text/plain": [
       "<Figure size 432x288 with 1 Axes>"
      ]
     },
     "metadata": {
      "needs_background": "light"
     },
     "output_type": "display_data"
    }
   ],
   "source": [
    "covidb.plot(kind=\"scatter\" , x=\"New cases\" , y= \"New deaths\")\n"
   ]
  },
  {
   "cell_type": "code",
   "execution_count": 23,
   "metadata": {},
   "outputs": [
    {
     "name": "stdout",
     "output_type": "stream",
     "text": [
      "38339\n",
      "211144\n",
      "12223\n",
      "342732\n",
      "8249\n",
      "41349\n"
     ]
    },
    {
     "data": {
      "text/plain": [
       "[38339, 211144, 12223, 342732, 8249, 41349]"
      ]
     },
     "execution_count": 23,
     "metadata": {},
     "output_type": "execute_result"
    }
   ],
   "source": [
    "mnkasd = covidb['WHO Region'].unique()\n",
    "rank = []\n",
    "for item in mnkasd:\n",
    "    print(covidb[covidb['WHO Region'] == item]['Deaths'].sum())\n",
    "    rank.append(covidb[covidb['WHO Region'] == item]['Deaths'].sum())\n",
    "\n",
    "rank"
   ]
  },
  {
   "cell_type": "code",
   "execution_count": 24,
   "metadata": {},
   "outputs": [
    {
     "data": {
      "text/plain": [
       "22294"
      ]
     },
     "execution_count": 24,
     "metadata": {},
     "output_type": "execute_result"
    }
   ],
   "source": [
    "covidb[covidb['WHO Region'] == 'Europe']['New cases'].sum()"
   ]
  },
  {
   "cell_type": "code",
   "execution_count": null,
   "metadata": {},
   "outputs": [],
   "source": []
  }
 ],
 "metadata": {
  "kernelspec": {
   "display_name": "Python 3",
   "language": "python",
   "name": "python3"
  },
  "language_info": {
   "codemirror_mode": {
    "name": "ipython",
    "version": 3
   },
   "file_extension": ".py",
   "mimetype": "text/x-python",
   "name": "python",
   "nbconvert_exporter": "python",
   "pygments_lexer": "ipython3",
   "version": "3.7.6"
  }
 },
 "nbformat": 4,
 "nbformat_minor": 4
}
